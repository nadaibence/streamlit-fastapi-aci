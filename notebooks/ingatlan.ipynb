{
 "cells": [
  {
   "cell_type": "code",
   "execution_count": 14,
   "metadata": {},
   "outputs": [],
   "source": [
    "import pandas as pd\n",
    "from sklearn.model_selection import train_test_split\n",
    "from sklearn.ensemble import RandomForestRegressor\n",
    "from azure.storage.blob import BlockBlobService"
   ]
  },
  {
   "cell_type": "markdown",
   "metadata": {},
   "source": [
    "### Adatbetoltes"
   ]
  },
  {
   "cell_type": "code",
   "execution_count": 7,
   "metadata": {},
   "outputs": [],
   "source": [
    "df = pd.read_csv('DataSet_LakasP.csv', sep=',')"
   ]
  },
  {
   "cell_type": "code",
   "execution_count": 8,
   "metadata": {},
   "outputs": [
    {
     "data": {
      "text/html": [
       "<div>\n",
       "<style scoped>\n",
       "    .dataframe tbody tr th:only-of-type {\n",
       "        vertical-align: middle;\n",
       "    }\n",
       "\n",
       "    .dataframe tbody tr th {\n",
       "        vertical-align: top;\n",
       "    }\n",
       "\n",
       "    .dataframe thead th {\n",
       "        text-align: right;\n",
       "    }\n",
       "</style>\n",
       "<table border=\"1\" class=\"dataframe\">\n",
       "  <thead>\n",
       "    <tr style=\"text-align: right;\">\n",
       "      <th></th>\n",
       "      <th>county</th>\n",
       "      <th>city</th>\n",
       "      <th>postcode</th>\n",
       "      <th>property_type</th>\n",
       "      <th>property_subtype</th>\n",
       "      <th>property_condition_type</th>\n",
       "      <th>property_floor</th>\n",
       "      <th>building_floor_count</th>\n",
       "      <th>view_type</th>\n",
       "      <th>orientation</th>\n",
       "      <th>...</th>\n",
       "      <th>elevator_type</th>\n",
       "      <th>room_cnt</th>\n",
       "      <th>small_room_cnt</th>\n",
       "      <th>created_at</th>\n",
       "      <th>property_area</th>\n",
       "      <th>balcony_area</th>\n",
       "      <th>price_created_at</th>\n",
       "      <th>ad_view_cnt</th>\n",
       "      <th>active_days</th>\n",
       "      <th>nr</th>\n",
       "    </tr>\n",
       "  </thead>\n",
       "  <tbody>\n",
       "    <tr>\n",
       "      <th>0</th>\n",
       "      <td>Budapest</td>\n",
       "      <td>Budapest XII.</td>\n",
       "      <td>NaN</td>\n",
       "      <td>flat</td>\n",
       "      <td>brick flat (for sale)</td>\n",
       "      <td>good</td>\n",
       "      <td>1</td>\n",
       "      <td>NaN</td>\n",
       "      <td>street view</td>\n",
       "      <td>NaN</td>\n",
       "      <td>...</td>\n",
       "      <td>yes</td>\n",
       "      <td>2.0</td>\n",
       "      <td>1.0</td>\n",
       "      <td>2015-02-09</td>\n",
       "      <td>65.0</td>\n",
       "      <td>0.0</td>\n",
       "      <td>23.5</td>\n",
       "      <td>605.0</td>\n",
       "      <td>119.0</td>\n",
       "      <td>4</td>\n",
       "    </tr>\n",
       "    <tr>\n",
       "      <th>1</th>\n",
       "      <td>Budapest</td>\n",
       "      <td>Budapest I.</td>\n",
       "      <td>1016.0</td>\n",
       "      <td>flat</td>\n",
       "      <td>brick flat (for sale)</td>\n",
       "      <td>novel</td>\n",
       "      <td>2</td>\n",
       "      <td>NaN</td>\n",
       "      <td>street view</td>\n",
       "      <td>NaN</td>\n",
       "      <td>...</td>\n",
       "      <td>yes</td>\n",
       "      <td>1.0</td>\n",
       "      <td>1.0</td>\n",
       "      <td>2015-02-09</td>\n",
       "      <td>45.0</td>\n",
       "      <td>0.0</td>\n",
       "      <td>20.0</td>\n",
       "      <td>49.0</td>\n",
       "      <td>25.0</td>\n",
       "      <td>12</td>\n",
       "    </tr>\n",
       "  </tbody>\n",
       "</table>\n",
       "<p>2 rows × 22 columns</p>\n",
       "</div>"
      ],
      "text/plain": [
       "     county           city  postcode property_type       property_subtype  \\\n",
       "0  Budapest  Budapest XII.       NaN          flat  brick flat (for sale)   \n",
       "1  Budapest    Budapest I.    1016.0          flat  brick flat (for sale)   \n",
       "\n",
       "  property_condition_type property_floor building_floor_count    view_type  \\\n",
       "0                    good              1                  NaN  street view   \n",
       "1                   novel              2                  NaN  street view   \n",
       "\n",
       "  orientation  ... elevator_type room_cnt small_room_cnt  created_at  \\\n",
       "0         NaN  ...           yes      2.0            1.0  2015-02-09   \n",
       "1         NaN  ...           yes      1.0            1.0  2015-02-09   \n",
       "\n",
       "   property_area balcony_area  price_created_at  ad_view_cnt  active_days  nr  \n",
       "0           65.0          0.0              23.5        605.0        119.0   4  \n",
       "1           45.0          0.0              20.0         49.0         25.0  12  \n",
       "\n",
       "[2 rows x 22 columns]"
      ]
     },
     "execution_count": 8,
     "metadata": {},
     "output_type": "execute_result"
    }
   ],
   "source": [
    "df.head(2)"
   ]
  },
  {
   "cell_type": "code",
   "execution_count": 9,
   "metadata": {},
   "outputs": [
    {
     "data": {
      "text/html": [
       "<div>\n",
       "<style scoped>\n",
       "    .dataframe tbody tr th:only-of-type {\n",
       "        vertical-align: middle;\n",
       "    }\n",
       "\n",
       "    .dataframe tbody tr th {\n",
       "        vertical-align: top;\n",
       "    }\n",
       "\n",
       "    .dataframe thead th {\n",
       "        text-align: right;\n",
       "    }\n",
       "</style>\n",
       "<table border=\"1\" class=\"dataframe\">\n",
       "  <thead>\n",
       "    <tr style=\"text-align: right;\">\n",
       "      <th></th>\n",
       "      <th>postcode</th>\n",
       "      <th>room_cnt</th>\n",
       "      <th>small_room_cnt</th>\n",
       "      <th>property_area</th>\n",
       "      <th>balcony_area</th>\n",
       "      <th>price_created_at</th>\n",
       "      <th>ad_view_cnt</th>\n",
       "      <th>active_days</th>\n",
       "      <th>nr</th>\n",
       "    </tr>\n",
       "  </thead>\n",
       "  <tbody>\n",
       "    <tr>\n",
       "      <th>count</th>\n",
       "      <td>49587.000000</td>\n",
       "      <td>78542.000000</td>\n",
       "      <td>78542.000000</td>\n",
       "      <td>78542.000000</td>\n",
       "      <td>78542.000000</td>\n",
       "      <td>78542.000000</td>\n",
       "      <td>78542.000000</td>\n",
       "      <td>78542.000000</td>\n",
       "      <td>78542.000000</td>\n",
       "    </tr>\n",
       "    <tr>\n",
       "      <th>mean</th>\n",
       "      <td>1103.360780</td>\n",
       "      <td>1.467673</td>\n",
       "      <td>0.559942</td>\n",
       "      <td>48.440771</td>\n",
       "      <td>1.953108</td>\n",
       "      <td>19.340736</td>\n",
       "      <td>259.597273</td>\n",
       "      <td>44.174060</td>\n",
       "      <td>196333.134158</td>\n",
       "    </tr>\n",
       "    <tr>\n",
       "      <th>std</th>\n",
       "      <td>50.769527</td>\n",
       "      <td>0.599837</td>\n",
       "      <td>0.737123</td>\n",
       "      <td>12.716479</td>\n",
       "      <td>4.677153</td>\n",
       "      <td>8.900928</td>\n",
       "      <td>512.343391</td>\n",
       "      <td>47.822375</td>\n",
       "      <td>113303.860736</td>\n",
       "    </tr>\n",
       "    <tr>\n",
       "      <th>min</th>\n",
       "      <td>1011.000000</td>\n",
       "      <td>0.000000</td>\n",
       "      <td>0.000000</td>\n",
       "      <td>5.000000</td>\n",
       "      <td>0.000000</td>\n",
       "      <td>0.000000</td>\n",
       "      <td>0.000000</td>\n",
       "      <td>1.000000</td>\n",
       "      <td>4.000000</td>\n",
       "    </tr>\n",
       "    <tr>\n",
       "      <th>25%</th>\n",
       "      <td>1064.000000</td>\n",
       "      <td>1.000000</td>\n",
       "      <td>0.000000</td>\n",
       "      <td>40.000000</td>\n",
       "      <td>0.000000</td>\n",
       "      <td>13.200000</td>\n",
       "      <td>42.000000</td>\n",
       "      <td>11.000000</td>\n",
       "      <td>97960.750000</td>\n",
       "    </tr>\n",
       "    <tr>\n",
       "      <th>50%</th>\n",
       "      <td>1101.000000</td>\n",
       "      <td>1.000000</td>\n",
       "      <td>0.000000</td>\n",
       "      <td>50.000000</td>\n",
       "      <td>0.000000</td>\n",
       "      <td>16.900000</td>\n",
       "      <td>103.000000</td>\n",
       "      <td>28.000000</td>\n",
       "      <td>196091.500000</td>\n",
       "    </tr>\n",
       "    <tr>\n",
       "      <th>75%</th>\n",
       "      <td>1142.000000</td>\n",
       "      <td>2.000000</td>\n",
       "      <td>1.000000</td>\n",
       "      <td>60.000000</td>\n",
       "      <td>3.000000</td>\n",
       "      <td>23.900000</td>\n",
       "      <td>263.000000</td>\n",
       "      <td>61.000000</td>\n",
       "      <td>294507.500000</td>\n",
       "    </tr>\n",
       "    <tr>\n",
       "      <th>max</th>\n",
       "      <td>1239.000000</td>\n",
       "      <td>7.000000</td>\n",
       "      <td>4.000000</td>\n",
       "      <td>70.000000</td>\n",
       "      <td>97.000000</td>\n",
       "      <td>99.600000</td>\n",
       "      <td>28096.000000</td>\n",
       "      <td>537.000000</td>\n",
       "      <td>394181.000000</td>\n",
       "    </tr>\n",
       "  </tbody>\n",
       "</table>\n",
       "</div>"
      ],
      "text/plain": [
       "           postcode      room_cnt  small_room_cnt  property_area  \\\n",
       "count  49587.000000  78542.000000    78542.000000   78542.000000   \n",
       "mean    1103.360780      1.467673        0.559942      48.440771   \n",
       "std       50.769527      0.599837        0.737123      12.716479   \n",
       "min     1011.000000      0.000000        0.000000       5.000000   \n",
       "25%     1064.000000      1.000000        0.000000      40.000000   \n",
       "50%     1101.000000      1.000000        0.000000      50.000000   \n",
       "75%     1142.000000      2.000000        1.000000      60.000000   \n",
       "max     1239.000000      7.000000        4.000000      70.000000   \n",
       "\n",
       "       balcony_area  price_created_at   ad_view_cnt   active_days  \\\n",
       "count  78542.000000      78542.000000  78542.000000  78542.000000   \n",
       "mean       1.953108         19.340736    259.597273     44.174060   \n",
       "std        4.677153          8.900928    512.343391     47.822375   \n",
       "min        0.000000          0.000000      0.000000      1.000000   \n",
       "25%        0.000000         13.200000     42.000000     11.000000   \n",
       "50%        0.000000         16.900000    103.000000     28.000000   \n",
       "75%        3.000000         23.900000    263.000000     61.000000   \n",
       "max       97.000000         99.600000  28096.000000    537.000000   \n",
       "\n",
       "                  nr  \n",
       "count   78542.000000  \n",
       "mean   196333.134158  \n",
       "std    113303.860736  \n",
       "min         4.000000  \n",
       "25%     97960.750000  \n",
       "50%    196091.500000  \n",
       "75%    294507.500000  \n",
       "max    394181.000000  "
      ]
     },
     "execution_count": 9,
     "metadata": {},
     "output_type": "execute_result"
    }
   ],
   "source": [
    "df.describe()"
   ]
  },
  {
   "cell_type": "code",
   "execution_count": 11,
   "metadata": {},
   "outputs": [
    {
     "data": {
      "text/plain": [
       "county                      object\n",
       "city                        object\n",
       "postcode                   float64\n",
       "property_type               object\n",
       "property_subtype            object\n",
       "property_condition_type     object\n",
       "property_floor              object\n",
       "building_floor_count        object\n",
       "view_type                   object\n",
       "orientation                 object\n",
       "garden_access               object\n",
       "heating_type                object\n",
       "elevator_type               object\n",
       "room_cnt                   float64\n",
       "small_room_cnt             float64\n",
       "created_at                  object\n",
       "property_area              float64\n",
       "balcony_area               float64\n",
       "price_created_at           float64\n",
       "ad_view_cnt                float64\n",
       "active_days                float64\n",
       "nr                           int64\n",
       "dtype: object"
      ]
     },
     "execution_count": 11,
     "metadata": {},
     "output_type": "execute_result"
    }
   ],
   "source": [
    "df.dtypes"
   ]
  },
  {
   "cell_type": "code",
   "execution_count": 10,
   "metadata": {},
   "outputs": [
    {
     "data": {
      "text/plain": [
       "(78542, 22)"
      ]
     },
     "execution_count": 10,
     "metadata": {},
     "output_type": "execute_result"
    }
   ],
   "source": [
    "df.shape"
   ]
  },
  {
   "cell_type": "markdown",
   "metadata": {},
   "source": [
    "### Modell epites"
   ]
  },
  {
   "cell_type": "code",
   "execution_count": null,
   "metadata": {},
   "outputs": [],
   "source": [
    "df.columns"
   ]
  },
  {
   "cell_type": "code",
   "execution_count": 15,
   "metadata": {},
   "outputs": [],
   "source": [
    "input_cols = ['room_cnt','property_area','balcony_area']\n",
    "X = df[input_cols]\n",
    "y = df['price_created_at']"
   ]
  },
  {
   "cell_type": "code",
   "execution_count": 16,
   "metadata": {},
   "outputs": [],
   "source": [
    "X_train, X_valid, y_train, y_valid = train_test_split(X,y,test_size=0.2)"
   ]
  },
  {
   "cell_type": "code",
   "execution_count": 18,
   "metadata": {},
   "outputs": [
    {
     "data": {
      "text/plain": [
       "RandomForestRegressor(bootstrap=True, criterion='mse', max_depth=None,\n",
       "           max_features='auto', max_leaf_nodes=None,\n",
       "           min_impurity_decrease=0.0, min_impurity_split=None,\n",
       "           min_samples_leaf=1, min_samples_split=2,\n",
       "           min_weight_fraction_leaf=0.0, n_estimators=300, n_jobs=None,\n",
       "           oob_score=False, random_state=666, verbose=0, warm_start=False)"
      ]
     },
     "execution_count": 18,
     "metadata": {},
     "output_type": "execute_result"
    }
   ],
   "source": [
    "model = RandomForestRegressor(random_state=666, n_estimators=300)\n",
    "model.fit(X_train, y_train)"
   ]
  },
  {
   "cell_type": "markdown",
   "metadata": {},
   "source": [
    "### Modell mentes azure-ba"
   ]
  },
  {
   "cell_type": "code",
   "execution_count": 19,
   "metadata": {},
   "outputs": [],
   "source": [
    "block_blob_service = BlockBlobService(account_name='...',\n",
    "                                      account_key='...')"
   ]
  },
  {
   "cell_type": "code",
   "execution_count": 20,
   "metadata": {},
   "outputs": [],
   "source": [
    "from io import BytesIO\n",
    "import joblib"
   ]
  },
  {
   "cell_type": "code",
   "execution_count": 21,
   "metadata": {},
   "outputs": [
    {
     "data": {
      "text/plain": [
       "['model.pkl']"
      ]
     },
     "execution_count": 21,
     "metadata": {},
     "output_type": "execute_result"
    }
   ],
   "source": [
    "joblib.dump(value=model, filename='model.pkl')"
   ]
  },
  {
   "cell_type": "code",
   "execution_count": 22,
   "metadata": {},
   "outputs": [
    {
     "data": {
      "text/plain": [
       "<azure.storage.blob.models.ResourceProperties at 0x1a1b10a128>"
      ]
     },
     "execution_count": 22,
     "metadata": {},
     "output_type": "execute_result"
    }
   ],
   "source": [
    "block_blob_service.create_blob_from_path(container_name='', blob_name='', file_path='')"
   ]
  },
  {
   "cell_type": "code",
   "execution_count": 28,
   "metadata": {},
   "outputs": [],
   "source": [
    "model2 = block_blob_service.get_blob_to_bytes('bence', 'model.pkl')"
   ]
  },
  {
   "cell_type": "code",
   "execution_count": 24,
   "metadata": {},
   "outputs": [],
   "source": [
    "model2 = joblib.load(BytesIO(model2.content))"
   ]
  },
  {
   "cell_type": "code",
   "execution_count": 27,
   "metadata": {},
   "outputs": [
    {
     "data": {
      "text/plain": [
       "array([36.4304582])"
      ]
     },
     "execution_count": 27,
     "metadata": {},
     "output_type": "execute_result"
    }
   ],
   "source": [
    "model2.predict([[3, 70, 10]])"
   ]
  }
 ],
 "metadata": {
  "kernelspec": {
   "display_name": "Python 3",
   "language": "python",
   "name": "python3"
  },
  "language_info": {
   "codemirror_mode": {
    "name": "ipython",
    "version": 3
   },
   "file_extension": ".py",
   "mimetype": "text/x-python",
   "name": "python",
   "nbconvert_exporter": "python",
   "pygments_lexer": "ipython3",
   "version": "3.7.3"
  }
 },
 "nbformat": 4,
 "nbformat_minor": 2
}
